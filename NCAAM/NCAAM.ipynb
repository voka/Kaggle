{
 "metadata": {
  "language_info": {
   "codemirror_mode": {
    "name": "ipython",
    "version": 3
   },
   "file_extension": ".py",
   "mimetype": "text/x-python",
   "name": "python",
   "nbconvert_exporter": "python",
   "pygments_lexer": "ipython3",
   "version": "3.8.7-final"
  },
  "orig_nbformat": 2,
  "kernelspec": {
   "name": "python3",
   "display_name": "Python 3.8.7 64-bit",
   "metadata": {
    "interpreter": {
     "hash": "4446fe402eefcf718dfb1e157e1805a7a4114ad878460455bd2230b275bf6e3c"
    }
   }
  }
 },
 "nbformat": 4,
 "nbformat_minor": 2,
 "cells": [
  {
   "source": [
    "# Data collect\n",
    "\n",
    "# 1. Basic Data"
   ],
   "cell_type": "markdown",
   "metadata": {}
  },
  {
   "cell_type": "code",
   "execution_count": 1,
   "metadata": {},
   "outputs": [
    {
     "output_type": "execute_result",
     "data": {
      "text/plain": [
       "   TeamID     TeamName  FirstD1Season  LastD1Season\n",
       "0    1101  Abilene Chr           2014          2021\n",
       "1    1102    Air Force           1985          2021\n",
       "2    1103        Akron           1985          2021\n",
       "3    1104      Alabama           1985          2021\n",
       "4    1105  Alabama A&M           2000          2021"
      ],
      "text/html": "<div>\n<style scoped>\n    .dataframe tbody tr th:only-of-type {\n        vertical-align: middle;\n    }\n\n    .dataframe tbody tr th {\n        vertical-align: top;\n    }\n\n    .dataframe thead th {\n        text-align: right;\n    }\n</style>\n<table border=\"1\" class=\"dataframe\">\n  <thead>\n    <tr style=\"text-align: right;\">\n      <th></th>\n      <th>TeamID</th>\n      <th>TeamName</th>\n      <th>FirstD1Season</th>\n      <th>LastD1Season</th>\n    </tr>\n  </thead>\n  <tbody>\n    <tr>\n      <th>0</th>\n      <td>1101</td>\n      <td>Abilene Chr</td>\n      <td>2014</td>\n      <td>2021</td>\n    </tr>\n    <tr>\n      <th>1</th>\n      <td>1102</td>\n      <td>Air Force</td>\n      <td>1985</td>\n      <td>2021</td>\n    </tr>\n    <tr>\n      <th>2</th>\n      <td>1103</td>\n      <td>Akron</td>\n      <td>1985</td>\n      <td>2021</td>\n    </tr>\n    <tr>\n      <th>3</th>\n      <td>1104</td>\n      <td>Alabama</td>\n      <td>1985</td>\n      <td>2021</td>\n    </tr>\n    <tr>\n      <th>4</th>\n      <td>1105</td>\n      <td>Alabama A&amp;M</td>\n      <td>2000</td>\n      <td>2021</td>\n    </tr>\n  </tbody>\n</table>\n</div>"
     },
     "metadata": {},
     "execution_count": 1
    }
   ],
   "source": [
    "\n",
    "\n",
    "import pandas as pd\n",
    "# 팀 데이터는 대학팀들을 구분할 수 있는 4자리의 ID, 시즌 처음 년도, 마지막 년도 \n",
    "Team = pd.read_csv('input/MTeams.csv') \n",
    "Team.head()"
   ]
  },
  {
   "cell_type": "code",
   "execution_count": 2,
   "metadata": {},
   "outputs": [
    {
     "output_type": "stream",
     "name": "stdout",
     "text": [
      "<class 'pandas.core.frame.DataFrame'>\nRangeIndex: 371 entries, 0 to 370\nData columns (total 4 columns):\n #   Column         Non-Null Count  Dtype \n---  ------         --------------  ----- \n 0   TeamID         371 non-null    int64 \n 1   TeamName       371 non-null    object\n 2   FirstD1Season  371 non-null    int64 \n 3   LastD1Season   371 non-null    int64 \ndtypes: int64(3), object(1)\nmemory usage: 11.7+ KB\n"
     ]
    }
   ],
   "source": [
    "Team.info()"
   ]
  },
  {
   "cell_type": "code",
   "execution_count": 4,
   "metadata": {},
   "outputs": [
    {
     "output_type": "execute_result",
     "data": {
      "text/plain": [
       "(371, 4)"
      ]
     },
     "metadata": {},
     "execution_count": 4
    }
   ],
   "source": [
    "Team.shape"
   ]
  },
  {
   "cell_type": "code",
   "execution_count": 7,
   "metadata": {},
   "outputs": [
    {
     "output_type": "execute_result",
     "data": {
      "text/plain": [
       "   Season     DayZero RegionW    RegionX    RegionY    RegionZ\n",
       "0    1985  10/29/1984    East       West    Midwest  Southeast\n",
       "1    1986  10/28/1985    East    Midwest  Southeast       West\n",
       "2    1987  10/27/1986    East  Southeast    Midwest       West\n",
       "3    1988   11/2/1987    East    Midwest  Southeast       West\n",
       "4    1989  10/31/1988    East       West    Midwest  Southeast"
      ],
      "text/html": "<div>\n<style scoped>\n    .dataframe tbody tr th:only-of-type {\n        vertical-align: middle;\n    }\n\n    .dataframe tbody tr th {\n        vertical-align: top;\n    }\n\n    .dataframe thead th {\n        text-align: right;\n    }\n</style>\n<table border=\"1\" class=\"dataframe\">\n  <thead>\n    <tr style=\"text-align: right;\">\n      <th></th>\n      <th>Season</th>\n      <th>DayZero</th>\n      <th>RegionW</th>\n      <th>RegionX</th>\n      <th>RegionY</th>\n      <th>RegionZ</th>\n    </tr>\n  </thead>\n  <tbody>\n    <tr>\n      <th>0</th>\n      <td>1985</td>\n      <td>10/29/1984</td>\n      <td>East</td>\n      <td>West</td>\n      <td>Midwest</td>\n      <td>Southeast</td>\n    </tr>\n    <tr>\n      <th>1</th>\n      <td>1986</td>\n      <td>10/28/1985</td>\n      <td>East</td>\n      <td>Midwest</td>\n      <td>Southeast</td>\n      <td>West</td>\n    </tr>\n    <tr>\n      <th>2</th>\n      <td>1987</td>\n      <td>10/27/1986</td>\n      <td>East</td>\n      <td>Southeast</td>\n      <td>Midwest</td>\n      <td>West</td>\n    </tr>\n    <tr>\n      <th>3</th>\n      <td>1988</td>\n      <td>11/2/1987</td>\n      <td>East</td>\n      <td>Midwest</td>\n      <td>Southeast</td>\n      <td>West</td>\n    </tr>\n    <tr>\n      <th>4</th>\n      <td>1989</td>\n      <td>10/31/1988</td>\n      <td>East</td>\n      <td>West</td>\n      <td>Midwest</td>\n      <td>Southeast</td>\n    </tr>\n  </tbody>\n</table>\n</div>"
     },
     "metadata": {},
     "execution_count": 7
    }
   ],
   "source": [
    "Seasons = pd.read_csv('input/MSeasons.csv')  # 현재 시즌은 2021년으로 계산되며 \n",
    "Seasons.head()"
   ]
  },
  {
   "cell_type": "code",
   "execution_count": 8,
   "metadata": {},
   "outputs": [
    {
     "output_type": "stream",
     "name": "stdout",
     "text": [
      "<class 'pandas.core.frame.DataFrame'>\nRangeIndex: 37 entries, 0 to 36\nData columns (total 6 columns):\n #   Column   Non-Null Count  Dtype \n---  ------   --------------  ----- \n 0   Season   37 non-null     int64 \n 1   DayZero  37 non-null     object\n 2   RegionW  37 non-null     object\n 3   RegionX  37 non-null     object\n 4   RegionY  37 non-null     object\n 5   RegionZ  37 non-null     object\ndtypes: int64(1), object(5)\nmemory usage: 1.9+ KB\n"
     ]
    }
   ],
   "source": [
    "Seasons.info()"
   ]
  },
  {
   "cell_type": "code",
   "execution_count": 9,
   "metadata": {},
   "outputs": [
    {
     "output_type": "execute_result",
     "data": {
      "text/plain": [
       "   Season Seed  TeamID\n",
       "0    1985  W01    1207\n",
       "1    1985  W02    1210\n",
       "2    1985  W03    1228\n",
       "3    1985  W04    1260\n",
       "4    1985  W05    1374"
      ],
      "text/html": "<div>\n<style scoped>\n    .dataframe tbody tr th:only-of-type {\n        vertical-align: middle;\n    }\n\n    .dataframe tbody tr th {\n        vertical-align: top;\n    }\n\n    .dataframe thead th {\n        text-align: right;\n    }\n</style>\n<table border=\"1\" class=\"dataframe\">\n  <thead>\n    <tr style=\"text-align: right;\">\n      <th></th>\n      <th>Season</th>\n      <th>Seed</th>\n      <th>TeamID</th>\n    </tr>\n  </thead>\n  <tbody>\n    <tr>\n      <th>0</th>\n      <td>1985</td>\n      <td>W01</td>\n      <td>1207</td>\n    </tr>\n    <tr>\n      <th>1</th>\n      <td>1985</td>\n      <td>W02</td>\n      <td>1210</td>\n    </tr>\n    <tr>\n      <th>2</th>\n      <td>1985</td>\n      <td>W03</td>\n      <td>1228</td>\n    </tr>\n    <tr>\n      <th>3</th>\n      <td>1985</td>\n      <td>W04</td>\n      <td>1260</td>\n    </tr>\n    <tr>\n      <th>4</th>\n      <td>1985</td>\n      <td>W05</td>\n      <td>1374</td>\n    </tr>\n  </tbody>\n</table>\n</div>"
     },
     "metadata": {},
     "execution_count": 9
    }
   ],
   "source": [
    "NCAATourneySeeds = pd.read_csv('input/MNCAATourneySeeds.csv')  # 현재 시즌은 2021년으로 계산되며 \n",
    "NCAATourneySeeds.head()"
   ]
  },
  {
   "cell_type": "code",
   "execution_count": 10,
   "metadata": {},
   "outputs": [
    {
     "output_type": "stream",
     "name": "stdout",
     "text": [
      "<class 'pandas.core.frame.DataFrame'>\nRangeIndex: 2286 entries, 0 to 2285\nData columns (total 3 columns):\n #   Column  Non-Null Count  Dtype \n---  ------  --------------  ----- \n 0   Season  2286 non-null   int64 \n 1   Seed    2286 non-null   object\n 2   TeamID  2286 non-null   int64 \ndtypes: int64(2), object(1)\nmemory usage: 53.7+ KB\n"
     ]
    }
   ],
   "source": [
    "NCAATourneySeeds.info()"
   ]
  },
  {
   "cell_type": "code",
   "execution_count": 11,
   "metadata": {},
   "outputs": [
    {
     "output_type": "execute_result",
     "data": {
      "text/plain": [
       "   Season  DayNum  WTeamID  WScore  LTeamID  LScore WLoc  NumOT\n",
       "0    1985      20     1228      81     1328      64    N      0\n",
       "1    1985      25     1106      77     1354      70    H      0\n",
       "2    1985      25     1112      63     1223      56    H      0\n",
       "3    1985      25     1165      70     1432      54    H      0\n",
       "4    1985      25     1192      86     1447      74    H      0"
      ],
      "text/html": "<div>\n<style scoped>\n    .dataframe tbody tr th:only-of-type {\n        vertical-align: middle;\n    }\n\n    .dataframe tbody tr th {\n        vertical-align: top;\n    }\n\n    .dataframe thead th {\n        text-align: right;\n    }\n</style>\n<table border=\"1\" class=\"dataframe\">\n  <thead>\n    <tr style=\"text-align: right;\">\n      <th></th>\n      <th>Season</th>\n      <th>DayNum</th>\n      <th>WTeamID</th>\n      <th>WScore</th>\n      <th>LTeamID</th>\n      <th>LScore</th>\n      <th>WLoc</th>\n      <th>NumOT</th>\n    </tr>\n  </thead>\n  <tbody>\n    <tr>\n      <th>0</th>\n      <td>1985</td>\n      <td>20</td>\n      <td>1228</td>\n      <td>81</td>\n      <td>1328</td>\n      <td>64</td>\n      <td>N</td>\n      <td>0</td>\n    </tr>\n    <tr>\n      <th>1</th>\n      <td>1985</td>\n      <td>25</td>\n      <td>1106</td>\n      <td>77</td>\n      <td>1354</td>\n      <td>70</td>\n      <td>H</td>\n      <td>0</td>\n    </tr>\n    <tr>\n      <th>2</th>\n      <td>1985</td>\n      <td>25</td>\n      <td>1112</td>\n      <td>63</td>\n      <td>1223</td>\n      <td>56</td>\n      <td>H</td>\n      <td>0</td>\n    </tr>\n    <tr>\n      <th>3</th>\n      <td>1985</td>\n      <td>25</td>\n      <td>1165</td>\n      <td>70</td>\n      <td>1432</td>\n      <td>54</td>\n      <td>H</td>\n      <td>0</td>\n    </tr>\n    <tr>\n      <th>4</th>\n      <td>1985</td>\n      <td>25</td>\n      <td>1192</td>\n      <td>86</td>\n      <td>1447</td>\n      <td>74</td>\n      <td>H</td>\n      <td>0</td>\n    </tr>\n  </tbody>\n</table>\n</div>"
     },
     "metadata": {},
     "execution_count": 11
    }
   ],
   "source": [
    "RegularSeasonCompactResults = pd.read_csv('input/MRegularSeasonCompactResults.csv')  # 현재 시즌은 2021년으로 계산되며 \n",
    "RegularSeasonCompactResults.head()"
   ]
  },
  {
   "cell_type": "code",
   "execution_count": 12,
   "metadata": {},
   "outputs": [
    {
     "output_type": "stream",
     "name": "stdout",
     "text": [
      "<class 'pandas.core.frame.DataFrame'>\nRangeIndex: 166880 entries, 0 to 166879\nData columns (total 8 columns):\n #   Column   Non-Null Count   Dtype \n---  ------   --------------   ----- \n 0   Season   166880 non-null  int64 \n 1   DayNum   166880 non-null  int64 \n 2   WTeamID  166880 non-null  int64 \n 3   WScore   166880 non-null  int64 \n 4   LTeamID  166880 non-null  int64 \n 5   LScore   166880 non-null  int64 \n 6   WLoc     166880 non-null  object\n 7   NumOT    166880 non-null  int64 \ndtypes: int64(7), object(1)\nmemory usage: 10.2+ MB\n"
     ]
    }
   ],
   "source": [
    "RegularSeasonCompactResults.info()"
   ]
  },
  {
   "cell_type": "code",
   "execution_count": 13,
   "metadata": {},
   "outputs": [
    {
     "output_type": "execute_result",
     "data": {
      "text/plain": [
       "   Season  DayNum  WTeamID  WScore  LTeamID  LScore WLoc  NumOT\n",
       "0    1985     136     1116      63     1234      54    N      0\n",
       "1    1985     136     1120      59     1345      58    N      0\n",
       "2    1985     136     1207      68     1250      43    N      0\n",
       "3    1985     136     1229      58     1425      55    N      0\n",
       "4    1985     136     1242      49     1325      38    N      0"
      ],
      "text/html": "<div>\n<style scoped>\n    .dataframe tbody tr th:only-of-type {\n        vertical-align: middle;\n    }\n\n    .dataframe tbody tr th {\n        vertical-align: top;\n    }\n\n    .dataframe thead th {\n        text-align: right;\n    }\n</style>\n<table border=\"1\" class=\"dataframe\">\n  <thead>\n    <tr style=\"text-align: right;\">\n      <th></th>\n      <th>Season</th>\n      <th>DayNum</th>\n      <th>WTeamID</th>\n      <th>WScore</th>\n      <th>LTeamID</th>\n      <th>LScore</th>\n      <th>WLoc</th>\n      <th>NumOT</th>\n    </tr>\n  </thead>\n  <tbody>\n    <tr>\n      <th>0</th>\n      <td>1985</td>\n      <td>136</td>\n      <td>1116</td>\n      <td>63</td>\n      <td>1234</td>\n      <td>54</td>\n      <td>N</td>\n      <td>0</td>\n    </tr>\n    <tr>\n      <th>1</th>\n      <td>1985</td>\n      <td>136</td>\n      <td>1120</td>\n      <td>59</td>\n      <td>1345</td>\n      <td>58</td>\n      <td>N</td>\n      <td>0</td>\n    </tr>\n    <tr>\n      <th>2</th>\n      <td>1985</td>\n      <td>136</td>\n      <td>1207</td>\n      <td>68</td>\n      <td>1250</td>\n      <td>43</td>\n      <td>N</td>\n      <td>0</td>\n    </tr>\n    <tr>\n      <th>3</th>\n      <td>1985</td>\n      <td>136</td>\n      <td>1229</td>\n      <td>58</td>\n      <td>1425</td>\n      <td>55</td>\n      <td>N</td>\n      <td>0</td>\n    </tr>\n    <tr>\n      <th>4</th>\n      <td>1985</td>\n      <td>136</td>\n      <td>1242</td>\n      <td>49</td>\n      <td>1325</td>\n      <td>38</td>\n      <td>N</td>\n      <td>0</td>\n    </tr>\n  </tbody>\n</table>\n</div>"
     },
     "metadata": {},
     "execution_count": 13
    }
   ],
   "source": [
    "NCAATourneyCompactResults = pd.read_csv('input/MNCAATourneyCompactResults.csv')  # 현재 시즌은 2021년으로 계산되며 \n",
    "NCAATourneyCompactResults.head()"
   ]
  },
  {
   "cell_type": "code",
   "execution_count": 14,
   "metadata": {},
   "outputs": [
    {
     "output_type": "stream",
     "name": "stdout",
     "text": [
      "<class 'pandas.core.frame.DataFrame'>\nRangeIndex: 2251 entries, 0 to 2250\nData columns (total 8 columns):\n #   Column   Non-Null Count  Dtype \n---  ------   --------------  ----- \n 0   Season   2251 non-null   int64 \n 1   DayNum   2251 non-null   int64 \n 2   WTeamID  2251 non-null   int64 \n 3   WScore   2251 non-null   int64 \n 4   LTeamID  2251 non-null   int64 \n 5   LScore   2251 non-null   int64 \n 6   WLoc     2251 non-null   object\n 7   NumOT    2251 non-null   int64 \ndtypes: int64(7), object(1)\nmemory usage: 140.8+ KB\n"
     ]
    }
   ],
   "source": [
    "NCAATourneyCompactResults.info()"
   ]
  },
  {
   "cell_type": "code",
   "execution_count": 15,
   "metadata": {},
   "outputs": [
    {
     "output_type": "execute_result",
     "data": {
      "text/plain": [
       "               ID  Pred\n",
       "0  2015_1107_1112   0.5\n",
       "1  2015_1107_1116   0.5\n",
       "2  2015_1107_1124   0.5\n",
       "3  2015_1107_1125   0.5\n",
       "4  2015_1107_1129   0.5"
      ],
      "text/html": "<div>\n<style scoped>\n    .dataframe tbody tr th:only-of-type {\n        vertical-align: middle;\n    }\n\n    .dataframe tbody tr th {\n        vertical-align: top;\n    }\n\n    .dataframe thead th {\n        text-align: right;\n    }\n</style>\n<table border=\"1\" class=\"dataframe\">\n  <thead>\n    <tr style=\"text-align: right;\">\n      <th></th>\n      <th>ID</th>\n      <th>Pred</th>\n    </tr>\n  </thead>\n  <tbody>\n    <tr>\n      <th>0</th>\n      <td>2015_1107_1112</td>\n      <td>0.5</td>\n    </tr>\n    <tr>\n      <th>1</th>\n      <td>2015_1107_1116</td>\n      <td>0.5</td>\n    </tr>\n    <tr>\n      <th>2</th>\n      <td>2015_1107_1124</td>\n      <td>0.5</td>\n    </tr>\n    <tr>\n      <th>3</th>\n      <td>2015_1107_1125</td>\n      <td>0.5</td>\n    </tr>\n    <tr>\n      <th>4</th>\n      <td>2015_1107_1129</td>\n      <td>0.5</td>\n    </tr>\n  </tbody>\n</table>\n</div>"
     },
     "metadata": {},
     "execution_count": 15
    }
   ],
   "source": [
    "SampleSubmissionStage1 = pd.read_csv('input/MSampleSubmissionStage1.csv')  # 현재 시즌은 2021년으로 계산되며 \n",
    "SampleSubmissionStage1.head()"
   ]
  },
  {
   "cell_type": "code",
   "execution_count": 16,
   "metadata": {},
   "outputs": [
    {
     "output_type": "stream",
     "name": "stdout",
     "text": [
      "<class 'pandas.core.frame.DataFrame'>\nRangeIndex: 11390 entries, 0 to 11389\nData columns (total 2 columns):\n #   Column  Non-Null Count  Dtype  \n---  ------  --------------  -----  \n 0   ID      11390 non-null  object \n 1   Pred    11390 non-null  float64\ndtypes: float64(1), object(1)\nmemory usage: 178.1+ KB\n"
     ]
    }
   ],
   "source": [
    "SampleSubmissionStage1.info()"
   ]
  },
  {
   "source": [
    "# 2. Team Box Scores"
   ],
   "cell_type": "markdown",
   "metadata": {}
  },
  {
   "cell_type": "code",
   "execution_count": 23,
   "metadata": {},
   "outputs": [
    {
     "output_type": "execute_result",
     "data": {
      "text/plain": [
       "   Season  DayNum  WTeamID  WScore  LTeamID  ...  LAst LTO  LStl  LBlk  LPF\n",
       "0    2003      10     1104      68     1328  ...     8  18     9     2   20\n",
       "1    2003      10     1272      70     1393  ...     7  12     8     6   16\n",
       "2    2003      11     1266      73     1437  ...     9  12     2     5   23\n",
       "3    2003      11     1296      56     1457  ...     9  19     4     3   23\n",
       "4    2003      11     1400      77     1208  ...    12  10     7     1   14\n",
       "\n",
       "[5 rows x 34 columns]"
      ],
      "text/html": "<div>\n<style scoped>\n    .dataframe tbody tr th:only-of-type {\n        vertical-align: middle;\n    }\n\n    .dataframe tbody tr th {\n        vertical-align: top;\n    }\n\n    .dataframe thead th {\n        text-align: right;\n    }\n</style>\n<table border=\"1\" class=\"dataframe\">\n  <thead>\n    <tr style=\"text-align: right;\">\n      <th></th>\n      <th>Season</th>\n      <th>DayNum</th>\n      <th>WTeamID</th>\n      <th>WScore</th>\n      <th>LTeamID</th>\n      <th>LScore</th>\n      <th>WLoc</th>\n      <th>NumOT</th>\n      <th>WFGM</th>\n      <th>WFGA</th>\n      <th>WFGM3</th>\n      <th>WFGA3</th>\n      <th>WFTM</th>\n      <th>WFTA</th>\n      <th>WOR</th>\n      <th>WDR</th>\n      <th>WAst</th>\n      <th>WTO</th>\n      <th>WStl</th>\n      <th>WBlk</th>\n      <th>WPF</th>\n      <th>LFGM</th>\n      <th>LFGA</th>\n      <th>LFGM3</th>\n      <th>LFGA3</th>\n      <th>LFTM</th>\n      <th>LFTA</th>\n      <th>LOR</th>\n      <th>LDR</th>\n      <th>LAst</th>\n      <th>LTO</th>\n      <th>LStl</th>\n      <th>LBlk</th>\n      <th>LPF</th>\n    </tr>\n  </thead>\n  <tbody>\n    <tr>\n      <th>0</th>\n      <td>2003</td>\n      <td>10</td>\n      <td>1104</td>\n      <td>68</td>\n      <td>1328</td>\n      <td>62</td>\n      <td>N</td>\n      <td>0</td>\n      <td>27</td>\n      <td>58</td>\n      <td>3</td>\n      <td>14</td>\n      <td>11</td>\n      <td>18</td>\n      <td>14</td>\n      <td>24</td>\n      <td>13</td>\n      <td>23</td>\n      <td>7</td>\n      <td>1</td>\n      <td>22</td>\n      <td>22</td>\n      <td>53</td>\n      <td>2</td>\n      <td>10</td>\n      <td>16</td>\n      <td>22</td>\n      <td>10</td>\n      <td>22</td>\n      <td>8</td>\n      <td>18</td>\n      <td>9</td>\n      <td>2</td>\n      <td>20</td>\n    </tr>\n    <tr>\n      <th>1</th>\n      <td>2003</td>\n      <td>10</td>\n      <td>1272</td>\n      <td>70</td>\n      <td>1393</td>\n      <td>63</td>\n      <td>N</td>\n      <td>0</td>\n      <td>26</td>\n      <td>62</td>\n      <td>8</td>\n      <td>20</td>\n      <td>10</td>\n      <td>19</td>\n      <td>15</td>\n      <td>28</td>\n      <td>16</td>\n      <td>13</td>\n      <td>4</td>\n      <td>4</td>\n      <td>18</td>\n      <td>24</td>\n      <td>67</td>\n      <td>6</td>\n      <td>24</td>\n      <td>9</td>\n      <td>20</td>\n      <td>20</td>\n      <td>25</td>\n      <td>7</td>\n      <td>12</td>\n      <td>8</td>\n      <td>6</td>\n      <td>16</td>\n    </tr>\n    <tr>\n      <th>2</th>\n      <td>2003</td>\n      <td>11</td>\n      <td>1266</td>\n      <td>73</td>\n      <td>1437</td>\n      <td>61</td>\n      <td>N</td>\n      <td>0</td>\n      <td>24</td>\n      <td>58</td>\n      <td>8</td>\n      <td>18</td>\n      <td>17</td>\n      <td>29</td>\n      <td>17</td>\n      <td>26</td>\n      <td>15</td>\n      <td>10</td>\n      <td>5</td>\n      <td>2</td>\n      <td>25</td>\n      <td>22</td>\n      <td>73</td>\n      <td>3</td>\n      <td>26</td>\n      <td>14</td>\n      <td>23</td>\n      <td>31</td>\n      <td>22</td>\n      <td>9</td>\n      <td>12</td>\n      <td>2</td>\n      <td>5</td>\n      <td>23</td>\n    </tr>\n    <tr>\n      <th>3</th>\n      <td>2003</td>\n      <td>11</td>\n      <td>1296</td>\n      <td>56</td>\n      <td>1457</td>\n      <td>50</td>\n      <td>N</td>\n      <td>0</td>\n      <td>18</td>\n      <td>38</td>\n      <td>3</td>\n      <td>9</td>\n      <td>17</td>\n      <td>31</td>\n      <td>6</td>\n      <td>19</td>\n      <td>11</td>\n      <td>12</td>\n      <td>14</td>\n      <td>2</td>\n      <td>18</td>\n      <td>18</td>\n      <td>49</td>\n      <td>6</td>\n      <td>22</td>\n      <td>8</td>\n      <td>15</td>\n      <td>17</td>\n      <td>20</td>\n      <td>9</td>\n      <td>19</td>\n      <td>4</td>\n      <td>3</td>\n      <td>23</td>\n    </tr>\n    <tr>\n      <th>4</th>\n      <td>2003</td>\n      <td>11</td>\n      <td>1400</td>\n      <td>77</td>\n      <td>1208</td>\n      <td>71</td>\n      <td>N</td>\n      <td>0</td>\n      <td>30</td>\n      <td>61</td>\n      <td>6</td>\n      <td>14</td>\n      <td>11</td>\n      <td>13</td>\n      <td>17</td>\n      <td>22</td>\n      <td>12</td>\n      <td>14</td>\n      <td>4</td>\n      <td>4</td>\n      <td>20</td>\n      <td>24</td>\n      <td>62</td>\n      <td>6</td>\n      <td>16</td>\n      <td>17</td>\n      <td>27</td>\n      <td>21</td>\n      <td>15</td>\n      <td>12</td>\n      <td>10</td>\n      <td>7</td>\n      <td>1</td>\n      <td>14</td>\n    </tr>\n  </tbody>\n</table>\n</div>"
     },
     "metadata": {},
     "execution_count": 23
    }
   ],
   "source": [
    "RegularSeasonDetailedResults = pd.read_csv('input/MRegularSeasonDetailedResults.csv')  # 현재 시즌은 2021년으로 계산되며 \n",
    "RegularSeasonDetailedResults.head()"
   ]
  },
  {
   "cell_type": "code",
   "execution_count": 18,
   "metadata": {},
   "outputs": [
    {
     "output_type": "stream",
     "name": "stdout",
     "text": [
      "<class 'pandas.core.frame.DataFrame'>\nRangeIndex: 92832 entries, 0 to 92831\nData columns (total 34 columns):\n #   Column   Non-Null Count  Dtype \n---  ------   --------------  ----- \n 0   Season   92832 non-null  int64 \n 1   DayNum   92832 non-null  int64 \n 2   WTeamID  92832 non-null  int64 \n 3   WScore   92832 non-null  int64 \n 4   LTeamID  92832 non-null  int64 \n 5   LScore   92832 non-null  int64 \n 6   WLoc     92832 non-null  object\n 7   NumOT    92832 non-null  int64 \n 8   WFGM     92832 non-null  int64 \n 9   WFGA     92832 non-null  int64 \n 10  WFGM3    92832 non-null  int64 \n 11  WFGA3    92832 non-null  int64 \n 12  WFTM     92832 non-null  int64 \n 13  WFTA     92832 non-null  int64 \n 14  WOR      92832 non-null  int64 \n 15  WDR      92832 non-null  int64 \n 16  WAst     92832 non-null  int64 \n 17  WTO      92832 non-null  int64 \n 18  WStl     92832 non-null  int64 \n 19  WBlk     92832 non-null  int64 \n 20  WPF      92832 non-null  int64 \n 21  LFGM     92832 non-null  int64 \n 22  LFGA     92832 non-null  int64 \n 23  LFGM3    92832 non-null  int64 \n 24  LFGA3    92832 non-null  int64 \n 25  LFTM     92832 non-null  int64 \n 26  LFTA     92832 non-null  int64 \n 27  LOR      92832 non-null  int64 \n 28  LDR      92832 non-null  int64 \n 29  LAst     92832 non-null  int64 \n 30  LTO      92832 non-null  int64 \n 31  LStl     92832 non-null  int64 \n 32  LBlk     92832 non-null  int64 \n 33  LPF      92832 non-null  int64 \ndtypes: int64(33), object(1)\nmemory usage: 24.1+ MB\n"
     ]
    }
   ],
   "source": [
    "RegularSeasonDetailedResults.info()"
   ]
  },
  {
   "cell_type": "code",
   "execution_count": 24,
   "metadata": {},
   "outputs": [
    {
     "output_type": "execute_result",
     "data": {
      "text/plain": [
       "   Season  DayNum  WTeamID  WScore  LTeamID  ...  LAst LTO  LStl  LBlk  LPF\n",
       "0    2003     134     1421      92     1411  ...    16  15     5     0   22\n",
       "1    2003     136     1112      80     1436  ...    12  17    10     3   15\n",
       "2    2003     136     1113      84     1272  ...    11  12     2     5   18\n",
       "3    2003     136     1141      79     1166  ...    20  21     6     6   21\n",
       "4    2003     136     1143      76     1301  ...    16  14     5     8   19\n",
       "\n",
       "[5 rows x 34 columns]"
      ],
      "text/html": "<div>\n<style scoped>\n    .dataframe tbody tr th:only-of-type {\n        vertical-align: middle;\n    }\n\n    .dataframe tbody tr th {\n        vertical-align: top;\n    }\n\n    .dataframe thead th {\n        text-align: right;\n    }\n</style>\n<table border=\"1\" class=\"dataframe\">\n  <thead>\n    <tr style=\"text-align: right;\">\n      <th></th>\n      <th>Season</th>\n      <th>DayNum</th>\n      <th>WTeamID</th>\n      <th>WScore</th>\n      <th>LTeamID</th>\n      <th>LScore</th>\n      <th>WLoc</th>\n      <th>NumOT</th>\n      <th>WFGM</th>\n      <th>WFGA</th>\n      <th>WFGM3</th>\n      <th>WFGA3</th>\n      <th>WFTM</th>\n      <th>WFTA</th>\n      <th>WOR</th>\n      <th>WDR</th>\n      <th>WAst</th>\n      <th>WTO</th>\n      <th>WStl</th>\n      <th>WBlk</th>\n      <th>WPF</th>\n      <th>LFGM</th>\n      <th>LFGA</th>\n      <th>LFGM3</th>\n      <th>LFGA3</th>\n      <th>LFTM</th>\n      <th>LFTA</th>\n      <th>LOR</th>\n      <th>LDR</th>\n      <th>LAst</th>\n      <th>LTO</th>\n      <th>LStl</th>\n      <th>LBlk</th>\n      <th>LPF</th>\n    </tr>\n  </thead>\n  <tbody>\n    <tr>\n      <th>0</th>\n      <td>2003</td>\n      <td>134</td>\n      <td>1421</td>\n      <td>92</td>\n      <td>1411</td>\n      <td>84</td>\n      <td>N</td>\n      <td>1</td>\n      <td>32</td>\n      <td>69</td>\n      <td>11</td>\n      <td>29</td>\n      <td>17</td>\n      <td>26</td>\n      <td>14</td>\n      <td>30</td>\n      <td>17</td>\n      <td>12</td>\n      <td>5</td>\n      <td>3</td>\n      <td>22</td>\n      <td>29</td>\n      <td>67</td>\n      <td>12</td>\n      <td>31</td>\n      <td>14</td>\n      <td>31</td>\n      <td>17</td>\n      <td>28</td>\n      <td>16</td>\n      <td>15</td>\n      <td>5</td>\n      <td>0</td>\n      <td>22</td>\n    </tr>\n    <tr>\n      <th>1</th>\n      <td>2003</td>\n      <td>136</td>\n      <td>1112</td>\n      <td>80</td>\n      <td>1436</td>\n      <td>51</td>\n      <td>N</td>\n      <td>0</td>\n      <td>31</td>\n      <td>66</td>\n      <td>7</td>\n      <td>23</td>\n      <td>11</td>\n      <td>14</td>\n      <td>11</td>\n      <td>36</td>\n      <td>22</td>\n      <td>16</td>\n      <td>10</td>\n      <td>7</td>\n      <td>8</td>\n      <td>20</td>\n      <td>64</td>\n      <td>4</td>\n      <td>16</td>\n      <td>7</td>\n      <td>7</td>\n      <td>8</td>\n      <td>26</td>\n      <td>12</td>\n      <td>17</td>\n      <td>10</td>\n      <td>3</td>\n      <td>15</td>\n    </tr>\n    <tr>\n      <th>2</th>\n      <td>2003</td>\n      <td>136</td>\n      <td>1113</td>\n      <td>84</td>\n      <td>1272</td>\n      <td>71</td>\n      <td>N</td>\n      <td>0</td>\n      <td>31</td>\n      <td>59</td>\n      <td>6</td>\n      <td>14</td>\n      <td>16</td>\n      <td>22</td>\n      <td>10</td>\n      <td>27</td>\n      <td>18</td>\n      <td>9</td>\n      <td>7</td>\n      <td>4</td>\n      <td>19</td>\n      <td>25</td>\n      <td>69</td>\n      <td>7</td>\n      <td>28</td>\n      <td>14</td>\n      <td>21</td>\n      <td>20</td>\n      <td>22</td>\n      <td>11</td>\n      <td>12</td>\n      <td>2</td>\n      <td>5</td>\n      <td>18</td>\n    </tr>\n    <tr>\n      <th>3</th>\n      <td>2003</td>\n      <td>136</td>\n      <td>1141</td>\n      <td>79</td>\n      <td>1166</td>\n      <td>73</td>\n      <td>N</td>\n      <td>0</td>\n      <td>29</td>\n      <td>53</td>\n      <td>3</td>\n      <td>7</td>\n      <td>18</td>\n      <td>25</td>\n      <td>11</td>\n      <td>20</td>\n      <td>15</td>\n      <td>18</td>\n      <td>13</td>\n      <td>1</td>\n      <td>19</td>\n      <td>27</td>\n      <td>60</td>\n      <td>7</td>\n      <td>17</td>\n      <td>12</td>\n      <td>17</td>\n      <td>14</td>\n      <td>17</td>\n      <td>20</td>\n      <td>21</td>\n      <td>6</td>\n      <td>6</td>\n      <td>21</td>\n    </tr>\n    <tr>\n      <th>4</th>\n      <td>2003</td>\n      <td>136</td>\n      <td>1143</td>\n      <td>76</td>\n      <td>1301</td>\n      <td>74</td>\n      <td>N</td>\n      <td>1</td>\n      <td>27</td>\n      <td>64</td>\n      <td>7</td>\n      <td>20</td>\n      <td>15</td>\n      <td>23</td>\n      <td>18</td>\n      <td>20</td>\n      <td>17</td>\n      <td>13</td>\n      <td>8</td>\n      <td>2</td>\n      <td>14</td>\n      <td>25</td>\n      <td>56</td>\n      <td>9</td>\n      <td>21</td>\n      <td>15</td>\n      <td>20</td>\n      <td>10</td>\n      <td>26</td>\n      <td>16</td>\n      <td>14</td>\n      <td>5</td>\n      <td>8</td>\n      <td>19</td>\n    </tr>\n  </tbody>\n</table>\n</div>"
     },
     "metadata": {},
     "execution_count": 24
    }
   ],
   "source": [
    "NCAATourneyDetailedResults = pd.read_csv('input/MNCAATourneyDetailedResults.csv')  # 현재 시즌은 2021년으로 계산되며 \n",
    "NCAATourneyDetailedResults.head()"
   ]
  },
  {
   "cell_type": "code",
   "execution_count": 25,
   "metadata": {},
   "outputs": [
    {
     "output_type": "stream",
     "name": "stdout",
     "text": [
      "<class 'pandas.core.frame.DataFrame'>\nRangeIndex: 1115 entries, 0 to 1114\nData columns (total 34 columns):\n #   Column   Non-Null Count  Dtype \n---  ------   --------------  ----- \n 0   Season   1115 non-null   int64 \n 1   DayNum   1115 non-null   int64 \n 2   WTeamID  1115 non-null   int64 \n 3   WScore   1115 non-null   int64 \n 4   LTeamID  1115 non-null   int64 \n 5   LScore   1115 non-null   int64 \n 6   WLoc     1115 non-null   object\n 7   NumOT    1115 non-null   int64 \n 8   WFGM     1115 non-null   int64 \n 9   WFGA     1115 non-null   int64 \n 10  WFGM3    1115 non-null   int64 \n 11  WFGA3    1115 non-null   int64 \n 12  WFTM     1115 non-null   int64 \n 13  WFTA     1115 non-null   int64 \n 14  WOR      1115 non-null   int64 \n 15  WDR      1115 non-null   int64 \n 16  WAst     1115 non-null   int64 \n 17  WTO      1115 non-null   int64 \n 18  WStl     1115 non-null   int64 \n 19  WBlk     1115 non-null   int64 \n 20  WPF      1115 non-null   int64 \n 21  LFGM     1115 non-null   int64 \n 22  LFGA     1115 non-null   int64 \n 23  LFGM3    1115 non-null   int64 \n 24  LFGA3    1115 non-null   int64 \n 25  LFTM     1115 non-null   int64 \n 26  LFTA     1115 non-null   int64 \n 27  LOR      1115 non-null   int64 \n 28  LDR      1115 non-null   int64 \n 29  LAst     1115 non-null   int64 \n 30  LTO      1115 non-null   int64 \n 31  LStl     1115 non-null   int64 \n 32  LBlk     1115 non-null   int64 \n 33  LPF      1115 non-null   int64 \ndtypes: int64(33), object(1)\nmemory usage: 296.3+ KB\n"
     ]
    }
   ],
   "source": [
    "NCAATourneyDetailedResults.info()"
   ]
  },
  {
   "source": [
    "# 3. Geography Data"
   ],
   "cell_type": "markdown",
   "metadata": {}
  },
  {
   "cell_type": "code",
   "execution_count": 26,
   "metadata": {},
   "outputs": [
    {
     "output_type": "execute_result",
     "data": {
      "text/plain": [
       "   CityID         City State\n",
       "0    4001      Abilene    TX\n",
       "1    4002        Akron    OH\n",
       "2    4003       Albany    NY\n",
       "3    4004  Albuquerque    NM\n",
       "4    4005    Allentown    PA"
      ],
      "text/html": "<div>\n<style scoped>\n    .dataframe tbody tr th:only-of-type {\n        vertical-align: middle;\n    }\n\n    .dataframe tbody tr th {\n        vertical-align: top;\n    }\n\n    .dataframe thead th {\n        text-align: right;\n    }\n</style>\n<table border=\"1\" class=\"dataframe\">\n  <thead>\n    <tr style=\"text-align: right;\">\n      <th></th>\n      <th>CityID</th>\n      <th>City</th>\n      <th>State</th>\n    </tr>\n  </thead>\n  <tbody>\n    <tr>\n      <th>0</th>\n      <td>4001</td>\n      <td>Abilene</td>\n      <td>TX</td>\n    </tr>\n    <tr>\n      <th>1</th>\n      <td>4002</td>\n      <td>Akron</td>\n      <td>OH</td>\n    </tr>\n    <tr>\n      <th>2</th>\n      <td>4003</td>\n      <td>Albany</td>\n      <td>NY</td>\n    </tr>\n    <tr>\n      <th>3</th>\n      <td>4004</td>\n      <td>Albuquerque</td>\n      <td>NM</td>\n    </tr>\n    <tr>\n      <th>4</th>\n      <td>4005</td>\n      <td>Allentown</td>\n      <td>PA</td>\n    </tr>\n  </tbody>\n</table>\n</div>"
     },
     "metadata": {},
     "execution_count": 26
    }
   ],
   "source": [
    "Cities = pd.read_csv('input/Cities.csv')  # 현재 시즌은 2021년으로 계산되며 \n",
    "Cities.head()"
   ]
  },
  {
   "cell_type": "code",
   "execution_count": 27,
   "metadata": {},
   "outputs": [
    {
     "output_type": "stream",
     "name": "stdout",
     "text": [
      "<class 'pandas.core.frame.DataFrame'>\nRangeIndex: 453 entries, 0 to 452\nData columns (total 3 columns):\n #   Column  Non-Null Count  Dtype \n---  ------  --------------  ----- \n 0   CityID  453 non-null    int64 \n 1   City    453 non-null    object\n 2   State   453 non-null    object\ndtypes: int64(1), object(2)\nmemory usage: 10.7+ KB\n"
     ]
    }
   ],
   "source": [
    "Cities.info()"
   ]
  },
  {
   "cell_type": "code",
   "execution_count": 28,
   "metadata": {},
   "outputs": [
    {
     "output_type": "execute_result",
     "data": {
      "text/plain": [
       "   Season  DayNum  WTeamID  LTeamID   CRType  CityID\n",
       "0    2010       7     1143     1293  Regular    4027\n",
       "1    2010       7     1314     1198  Regular    4061\n",
       "2    2010       7     1326     1108  Regular    4080\n",
       "3    2010       7     1393     1107  Regular    4340\n",
       "4    2010       9     1143     1178  Regular    4027"
      ],
      "text/html": "<div>\n<style scoped>\n    .dataframe tbody tr th:only-of-type {\n        vertical-align: middle;\n    }\n\n    .dataframe tbody tr th {\n        vertical-align: top;\n    }\n\n    .dataframe thead th {\n        text-align: right;\n    }\n</style>\n<table border=\"1\" class=\"dataframe\">\n  <thead>\n    <tr style=\"text-align: right;\">\n      <th></th>\n      <th>Season</th>\n      <th>DayNum</th>\n      <th>WTeamID</th>\n      <th>LTeamID</th>\n      <th>CRType</th>\n      <th>CityID</th>\n    </tr>\n  </thead>\n  <tbody>\n    <tr>\n      <th>0</th>\n      <td>2010</td>\n      <td>7</td>\n      <td>1143</td>\n      <td>1293</td>\n      <td>Regular</td>\n      <td>4027</td>\n    </tr>\n    <tr>\n      <th>1</th>\n      <td>2010</td>\n      <td>7</td>\n      <td>1314</td>\n      <td>1198</td>\n      <td>Regular</td>\n      <td>4061</td>\n    </tr>\n    <tr>\n      <th>2</th>\n      <td>2010</td>\n      <td>7</td>\n      <td>1326</td>\n      <td>1108</td>\n      <td>Regular</td>\n      <td>4080</td>\n    </tr>\n    <tr>\n      <th>3</th>\n      <td>2010</td>\n      <td>7</td>\n      <td>1393</td>\n      <td>1107</td>\n      <td>Regular</td>\n      <td>4340</td>\n    </tr>\n    <tr>\n      <th>4</th>\n      <td>2010</td>\n      <td>9</td>\n      <td>1143</td>\n      <td>1178</td>\n      <td>Regular</td>\n      <td>4027</td>\n    </tr>\n  </tbody>\n</table>\n</div>"
     },
     "metadata": {},
     "execution_count": 28
    }
   ],
   "source": [
    "GameCities = pd.read_csv('input/MGameCities.csv')  # 현재 시즌은 2021년으로 계산되며 \n",
    "GameCities.head()"
   ]
  },
  {
   "cell_type": "code",
   "execution_count": 29,
   "metadata": {},
   "outputs": [
    {
     "output_type": "stream",
     "name": "stdout",
     "text": [
      "<class 'pandas.core.frame.DataFrame'>\nRangeIndex: 60166 entries, 0 to 60165\nData columns (total 6 columns):\n #   Column   Non-Null Count  Dtype \n---  ------   --------------  ----- \n 0   Season   60166 non-null  int64 \n 1   DayNum   60166 non-null  int64 \n 2   WTeamID  60166 non-null  int64 \n 3   LTeamID  60166 non-null  int64 \n 4   CRType   60166 non-null  object\n 5   CityID   60166 non-null  int64 \ndtypes: int64(5), object(1)\nmemory usage: 2.8+ MB\n"
     ]
    }
   ],
   "source": [
    "GameCities.info()"
   ]
  },
  {
   "source": [
    "# 4. Public Rankings"
   ],
   "cell_type": "markdown",
   "metadata": {}
  },
  {
   "cell_type": "code",
   "execution_count": 30,
   "metadata": {},
   "outputs": [
    {
     "output_type": "execute_result",
     "data": {
      "text/plain": [
       "   Season  RankingDayNum SystemName  TeamID  OrdinalRank\n",
       "0    2003             35        SEL    1102          159\n",
       "1    2003             35        SEL    1103          229\n",
       "2    2003             35        SEL    1104           12\n",
       "3    2003             35        SEL    1105          314\n",
       "4    2003             35        SEL    1106          260"
      ],
      "text/html": "<div>\n<style scoped>\n    .dataframe tbody tr th:only-of-type {\n        vertical-align: middle;\n    }\n\n    .dataframe tbody tr th {\n        vertical-align: top;\n    }\n\n    .dataframe thead th {\n        text-align: right;\n    }\n</style>\n<table border=\"1\" class=\"dataframe\">\n  <thead>\n    <tr style=\"text-align: right;\">\n      <th></th>\n      <th>Season</th>\n      <th>RankingDayNum</th>\n      <th>SystemName</th>\n      <th>TeamID</th>\n      <th>OrdinalRank</th>\n    </tr>\n  </thead>\n  <tbody>\n    <tr>\n      <th>0</th>\n      <td>2003</td>\n      <td>35</td>\n      <td>SEL</td>\n      <td>1102</td>\n      <td>159</td>\n    </tr>\n    <tr>\n      <th>1</th>\n      <td>2003</td>\n      <td>35</td>\n      <td>SEL</td>\n      <td>1103</td>\n      <td>229</td>\n    </tr>\n    <tr>\n      <th>2</th>\n      <td>2003</td>\n      <td>35</td>\n      <td>SEL</td>\n      <td>1104</td>\n      <td>12</td>\n    </tr>\n    <tr>\n      <th>3</th>\n      <td>2003</td>\n      <td>35</td>\n      <td>SEL</td>\n      <td>1105</td>\n      <td>314</td>\n    </tr>\n    <tr>\n      <th>4</th>\n      <td>2003</td>\n      <td>35</td>\n      <td>SEL</td>\n      <td>1106</td>\n      <td>260</td>\n    </tr>\n  </tbody>\n</table>\n</div>"
     },
     "metadata": {},
     "execution_count": 30
    }
   ],
   "source": [
    "MasseyOrdinals = pd.read_csv('input/MMasseyOrdinals.csv')  # 현재 시즌은 2021년으로 계산되며 \n",
    "MasseyOrdinals.head()"
   ]
  },
  {
   "cell_type": "code",
   "execution_count": 31,
   "metadata": {},
   "outputs": [
    {
     "output_type": "stream",
     "name": "stdout",
     "text": [
      "<class 'pandas.core.frame.DataFrame'>\nRangeIndex: 4120886 entries, 0 to 4120885\nData columns (total 5 columns):\n #   Column         Dtype \n---  ------         ----- \n 0   Season         int64 \n 1   RankingDayNum  int64 \n 2   SystemName     object\n 3   TeamID         int64 \n 4   OrdinalRank    int64 \ndtypes: int64(4), object(1)\nmemory usage: 157.2+ MB\n"
     ]
    }
   ],
   "source": [
    "MasseyOrdinals.info()"
   ]
  },
  {
   "source": [
    "# 5. Supplements(보조자료)"
   ],
   "cell_type": "markdown",
   "metadata": {}
  },
  {
   "cell_type": "code",
   "execution_count": 33,
   "metadata": {},
   "outputs": [
    {
     "output_type": "execute_result",
     "data": {
      "text/plain": [
       "   Season  TeamID  FirstDayNum  LastDayNum       CoachName\n",
       "0    1985    1102            0         154   reggie_minton\n",
       "1    1985    1103            0         154     bob_huggins\n",
       "2    1985    1104            0         154  wimp_sanderson\n",
       "3    1985    1106            0         154    james_oliver\n",
       "4    1985    1108            0         154   davey_whitney"
      ],
      "text/html": "<div>\n<style scoped>\n    .dataframe tbody tr th:only-of-type {\n        vertical-align: middle;\n    }\n\n    .dataframe tbody tr th {\n        vertical-align: top;\n    }\n\n    .dataframe thead th {\n        text-align: right;\n    }\n</style>\n<table border=\"1\" class=\"dataframe\">\n  <thead>\n    <tr style=\"text-align: right;\">\n      <th></th>\n      <th>Season</th>\n      <th>TeamID</th>\n      <th>FirstDayNum</th>\n      <th>LastDayNum</th>\n      <th>CoachName</th>\n    </tr>\n  </thead>\n  <tbody>\n    <tr>\n      <th>0</th>\n      <td>1985</td>\n      <td>1102</td>\n      <td>0</td>\n      <td>154</td>\n      <td>reggie_minton</td>\n    </tr>\n    <tr>\n      <th>1</th>\n      <td>1985</td>\n      <td>1103</td>\n      <td>0</td>\n      <td>154</td>\n      <td>bob_huggins</td>\n    </tr>\n    <tr>\n      <th>2</th>\n      <td>1985</td>\n      <td>1104</td>\n      <td>0</td>\n      <td>154</td>\n      <td>wimp_sanderson</td>\n    </tr>\n    <tr>\n      <th>3</th>\n      <td>1985</td>\n      <td>1106</td>\n      <td>0</td>\n      <td>154</td>\n      <td>james_oliver</td>\n    </tr>\n    <tr>\n      <th>4</th>\n      <td>1985</td>\n      <td>1108</td>\n      <td>0</td>\n      <td>154</td>\n      <td>davey_whitney</td>\n    </tr>\n  </tbody>\n</table>\n</div>"
     },
     "metadata": {},
     "execution_count": 33
    }
   ],
   "source": [
    "TeamCoaches = pd.read_csv('input/MTeamCoaches.csv')  # 현재 시즌은 2021년으로 계산되며 \n",
    "TeamCoaches.head()"
   ]
  },
  {
   "cell_type": "code",
   "execution_count": 34,
   "metadata": {},
   "outputs": [
    {
     "output_type": "execute_result",
     "data": {
      "text/plain": [
       "  ConfAbbrev                   Description\n",
       "0      a_sun       Atlantic Sun Conference\n",
       "1      a_ten        Atlantic 10 Conference\n",
       "2        aac  American Athletic Conference\n",
       "3        acc     Atlantic Coast Conference\n",
       "4        aec       America East Conference"
      ],
      "text/html": "<div>\n<style scoped>\n    .dataframe tbody tr th:only-of-type {\n        vertical-align: middle;\n    }\n\n    .dataframe tbody tr th {\n        vertical-align: top;\n    }\n\n    .dataframe thead th {\n        text-align: right;\n    }\n</style>\n<table border=\"1\" class=\"dataframe\">\n  <thead>\n    <tr style=\"text-align: right;\">\n      <th></th>\n      <th>ConfAbbrev</th>\n      <th>Description</th>\n    </tr>\n  </thead>\n  <tbody>\n    <tr>\n      <th>0</th>\n      <td>a_sun</td>\n      <td>Atlantic Sun Conference</td>\n    </tr>\n    <tr>\n      <th>1</th>\n      <td>a_ten</td>\n      <td>Atlantic 10 Conference</td>\n    </tr>\n    <tr>\n      <th>2</th>\n      <td>aac</td>\n      <td>American Athletic Conference</td>\n    </tr>\n    <tr>\n      <th>3</th>\n      <td>acc</td>\n      <td>Atlantic Coast Conference</td>\n    </tr>\n    <tr>\n      <th>4</th>\n      <td>aec</td>\n      <td>America East Conference</td>\n    </tr>\n  </tbody>\n</table>\n</div>"
     },
     "metadata": {},
     "execution_count": 34
    }
   ],
   "source": [
    "Conferences = pd.read_csv('input/Conferences.csv')  # 현재 시즌은 2021년으로 계산되며 \n",
    "Conferences.head()"
   ]
  },
  {
   "cell_type": "code",
   "execution_count": 35,
   "metadata": {},
   "outputs": [
    {
     "output_type": "execute_result",
     "data": {
      "text/plain": [
       "   Season  RankingDayNum SystemName  TeamID  OrdinalRank\n",
       "0    2003             35        SEL    1102          159\n",
       "1    2003             35        SEL    1103          229\n",
       "2    2003             35        SEL    1104           12\n",
       "3    2003             35        SEL    1105          314\n",
       "4    2003             35        SEL    1106          260"
      ],
      "text/html": "<div>\n<style scoped>\n    .dataframe tbody tr th:only-of-type {\n        vertical-align: middle;\n    }\n\n    .dataframe tbody tr th {\n        vertical-align: top;\n    }\n\n    .dataframe thead th {\n        text-align: right;\n    }\n</style>\n<table border=\"1\" class=\"dataframe\">\n  <thead>\n    <tr style=\"text-align: right;\">\n      <th></th>\n      <th>Season</th>\n      <th>RankingDayNum</th>\n      <th>SystemName</th>\n      <th>TeamID</th>\n      <th>OrdinalRank</th>\n    </tr>\n  </thead>\n  <tbody>\n    <tr>\n      <th>0</th>\n      <td>2003</td>\n      <td>35</td>\n      <td>SEL</td>\n      <td>1102</td>\n      <td>159</td>\n    </tr>\n    <tr>\n      <th>1</th>\n      <td>2003</td>\n      <td>35</td>\n      <td>SEL</td>\n      <td>1103</td>\n      <td>229</td>\n    </tr>\n    <tr>\n      <th>2</th>\n      <td>2003</td>\n      <td>35</td>\n      <td>SEL</td>\n      <td>1104</td>\n      <td>12</td>\n    </tr>\n    <tr>\n      <th>3</th>\n      <td>2003</td>\n      <td>35</td>\n      <td>SEL</td>\n      <td>1105</td>\n      <td>314</td>\n    </tr>\n    <tr>\n      <th>4</th>\n      <td>2003</td>\n      <td>35</td>\n      <td>SEL</td>\n      <td>1106</td>\n      <td>260</td>\n    </tr>\n  </tbody>\n</table>\n</div>"
     },
     "metadata": {},
     "execution_count": 35
    }
   ],
   "source": [
    "MasseyOrdinals = pd.read_csv('input/MMasseyOrdinals.csv')  # 현재 시즌은 2021년으로 계산되며 \n",
    "MasseyOrdinals.head()"
   ]
  },
  {
   "cell_type": "code",
   "execution_count": 36,
   "metadata": {},
   "outputs": [
    {
     "output_type": "execute_result",
     "data": {
      "text/plain": [
       "   Season  TeamID ConfAbbrev\n",
       "0    1985    1102        wac\n",
       "1    1985    1103        ovc\n",
       "2    1985    1104        sec\n",
       "3    1985    1106       swac\n",
       "4    1985    1108       swac"
      ],
      "text/html": "<div>\n<style scoped>\n    .dataframe tbody tr th:only-of-type {\n        vertical-align: middle;\n    }\n\n    .dataframe tbody tr th {\n        vertical-align: top;\n    }\n\n    .dataframe thead th {\n        text-align: right;\n    }\n</style>\n<table border=\"1\" class=\"dataframe\">\n  <thead>\n    <tr style=\"text-align: right;\">\n      <th></th>\n      <th>Season</th>\n      <th>TeamID</th>\n      <th>ConfAbbrev</th>\n    </tr>\n  </thead>\n  <tbody>\n    <tr>\n      <th>0</th>\n      <td>1985</td>\n      <td>1102</td>\n      <td>wac</td>\n    </tr>\n    <tr>\n      <th>1</th>\n      <td>1985</td>\n      <td>1103</td>\n      <td>ovc</td>\n    </tr>\n    <tr>\n      <th>2</th>\n      <td>1985</td>\n      <td>1104</td>\n      <td>sec</td>\n    </tr>\n    <tr>\n      <th>3</th>\n      <td>1985</td>\n      <td>1106</td>\n      <td>swac</td>\n    </tr>\n    <tr>\n      <th>4</th>\n      <td>1985</td>\n      <td>1108</td>\n      <td>swac</td>\n    </tr>\n  </tbody>\n</table>\n</div>"
     },
     "metadata": {},
     "execution_count": 36
    }
   ],
   "source": [
    "TeamConferences = pd.read_csv('input/MTeamConferences.csv')  # 현재 시즌은 2021년으로 계산되며 \n",
    "TeamConferences.head()"
   ]
  },
  {
   "cell_type": "code",
   "execution_count": 37,
   "metadata": {},
   "outputs": [
    {
     "output_type": "execute_result",
     "data": {
      "text/plain": [
       "   Season ConfAbbrev  DayNum  WTeamID  LTeamID\n",
       "0    2001      a_sun     121     1194     1144\n",
       "1    2001      a_sun     121     1416     1240\n",
       "2    2001      a_sun     122     1209     1194\n",
       "3    2001      a_sun     122     1359     1239\n",
       "4    2001      a_sun     122     1391     1273"
      ],
      "text/html": "<div>\n<style scoped>\n    .dataframe tbody tr th:only-of-type {\n        vertical-align: middle;\n    }\n\n    .dataframe tbody tr th {\n        vertical-align: top;\n    }\n\n    .dataframe thead th {\n        text-align: right;\n    }\n</style>\n<table border=\"1\" class=\"dataframe\">\n  <thead>\n    <tr style=\"text-align: right;\">\n      <th></th>\n      <th>Season</th>\n      <th>ConfAbbrev</th>\n      <th>DayNum</th>\n      <th>WTeamID</th>\n      <th>LTeamID</th>\n    </tr>\n  </thead>\n  <tbody>\n    <tr>\n      <th>0</th>\n      <td>2001</td>\n      <td>a_sun</td>\n      <td>121</td>\n      <td>1194</td>\n      <td>1144</td>\n    </tr>\n    <tr>\n      <th>1</th>\n      <td>2001</td>\n      <td>a_sun</td>\n      <td>121</td>\n      <td>1416</td>\n      <td>1240</td>\n    </tr>\n    <tr>\n      <th>2</th>\n      <td>2001</td>\n      <td>a_sun</td>\n      <td>122</td>\n      <td>1209</td>\n      <td>1194</td>\n    </tr>\n    <tr>\n      <th>3</th>\n      <td>2001</td>\n      <td>a_sun</td>\n      <td>122</td>\n      <td>1359</td>\n      <td>1239</td>\n    </tr>\n    <tr>\n      <th>4</th>\n      <td>2001</td>\n      <td>a_sun</td>\n      <td>122</td>\n      <td>1391</td>\n      <td>1273</td>\n    </tr>\n  </tbody>\n</table>\n</div>"
     },
     "metadata": {},
     "execution_count": 37
    }
   ],
   "source": [
    "ConferenceTourneyGames = pd.read_csv('input/MConferenceTourneyGames.csv')  # 현재 시즌은 2021년으로 계산되며 \n",
    "ConferenceTourneyGames.head()"
   ]
  },
  {
   "cell_type": "code",
   "execution_count": 38,
   "metadata": {},
   "outputs": [
    {
     "output_type": "execute_result",
     "data": {
      "text/plain": [
       "   Season SecondaryTourney  TeamID\n",
       "0    1985              NIT    1108\n",
       "1    1985              NIT    1133\n",
       "2    1985              NIT    1139\n",
       "3    1985              NIT    1145\n",
       "4    1985              NIT    1151"
      ],
      "text/html": "<div>\n<style scoped>\n    .dataframe tbody tr th:only-of-type {\n        vertical-align: middle;\n    }\n\n    .dataframe tbody tr th {\n        vertical-align: top;\n    }\n\n    .dataframe thead th {\n        text-align: right;\n    }\n</style>\n<table border=\"1\" class=\"dataframe\">\n  <thead>\n    <tr style=\"text-align: right;\">\n      <th></th>\n      <th>Season</th>\n      <th>SecondaryTourney</th>\n      <th>TeamID</th>\n    </tr>\n  </thead>\n  <tbody>\n    <tr>\n      <th>0</th>\n      <td>1985</td>\n      <td>NIT</td>\n      <td>1108</td>\n    </tr>\n    <tr>\n      <th>1</th>\n      <td>1985</td>\n      <td>NIT</td>\n      <td>1133</td>\n    </tr>\n    <tr>\n      <th>2</th>\n      <td>1985</td>\n      <td>NIT</td>\n      <td>1139</td>\n    </tr>\n    <tr>\n      <th>3</th>\n      <td>1985</td>\n      <td>NIT</td>\n      <td>1145</td>\n    </tr>\n    <tr>\n      <th>4</th>\n      <td>1985</td>\n      <td>NIT</td>\n      <td>1151</td>\n    </tr>\n  </tbody>\n</table>\n</div>"
     },
     "metadata": {},
     "execution_count": 38
    }
   ],
   "source": [
    "SecondaryTourneyTeams = pd.read_csv('input/MSecondaryTourneyTeams.csv')  # 현재 시즌은 2021년으로 계산되며 \n",
    "SecondaryTourneyTeams.head()"
   ]
  },
  {
   "cell_type": "code",
   "execution_count": 39,
   "metadata": {},
   "outputs": [
    {
     "output_type": "execute_result",
     "data": {
      "text/plain": [
       "   Season  DayNum  WTeamID  WScore  ...  LScore  WLoc NumOT  SecondaryTourney\n",
       "0    1985     136     1151      67  ...      65     H     0               NIT\n",
       "1    1985     136     1153      77  ...      61     H     0               NIT\n",
       "2    1985     136     1201      79  ...      76     H     0               NIT\n",
       "3    1985     136     1231      79  ...      57     H     0               NIT\n",
       "4    1985     136     1249      78  ...      71     H     0               NIT\n",
       "\n",
       "[5 rows x 9 columns]"
      ],
      "text/html": "<div>\n<style scoped>\n    .dataframe tbody tr th:only-of-type {\n        vertical-align: middle;\n    }\n\n    .dataframe tbody tr th {\n        vertical-align: top;\n    }\n\n    .dataframe thead th {\n        text-align: right;\n    }\n</style>\n<table border=\"1\" class=\"dataframe\">\n  <thead>\n    <tr style=\"text-align: right;\">\n      <th></th>\n      <th>Season</th>\n      <th>DayNum</th>\n      <th>WTeamID</th>\n      <th>WScore</th>\n      <th>LTeamID</th>\n      <th>LScore</th>\n      <th>WLoc</th>\n      <th>NumOT</th>\n      <th>SecondaryTourney</th>\n    </tr>\n  </thead>\n  <tbody>\n    <tr>\n      <th>0</th>\n      <td>1985</td>\n      <td>136</td>\n      <td>1151</td>\n      <td>67</td>\n      <td>1155</td>\n      <td>65</td>\n      <td>H</td>\n      <td>0</td>\n      <td>NIT</td>\n    </tr>\n    <tr>\n      <th>1</th>\n      <td>1985</td>\n      <td>136</td>\n      <td>1153</td>\n      <td>77</td>\n      <td>1245</td>\n      <td>61</td>\n      <td>H</td>\n      <td>0</td>\n      <td>NIT</td>\n    </tr>\n    <tr>\n      <th>2</th>\n      <td>1985</td>\n      <td>136</td>\n      <td>1201</td>\n      <td>79</td>\n      <td>1365</td>\n      <td>76</td>\n      <td>H</td>\n      <td>0</td>\n      <td>NIT</td>\n    </tr>\n    <tr>\n      <th>3</th>\n      <td>1985</td>\n      <td>136</td>\n      <td>1231</td>\n      <td>79</td>\n      <td>1139</td>\n      <td>57</td>\n      <td>H</td>\n      <td>0</td>\n      <td>NIT</td>\n    </tr>\n    <tr>\n      <th>4</th>\n      <td>1985</td>\n      <td>136</td>\n      <td>1249</td>\n      <td>78</td>\n      <td>1222</td>\n      <td>71</td>\n      <td>H</td>\n      <td>0</td>\n      <td>NIT</td>\n    </tr>\n  </tbody>\n</table>\n</div>"
     },
     "metadata": {},
     "execution_count": 39
    }
   ],
   "source": [
    "SecondaryTourneyCompactResults = pd.read_csv('input/MSecondaryTourneyCompactResults.csv')  # 현재 시즌은 2021년으로 계산되며 \n",
    "SecondaryTourneyCompactResults.head()"
   ]
  },
  {
   "cell_type": "code",
   "execution_count": 40,
   "metadata": {},
   "outputs": [
    {
     "output_type": "execute_result",
     "data": {
      "text/plain": [
       "     TeamNameSpelling  TeamID\n",
       "0    a&m-corpus chris    1394\n",
       "1  a&m-corpus christi    1394\n",
       "2         abilene chr    1101\n",
       "3   abilene christian    1101\n",
       "4   abilene-christian    1101"
      ],
      "text/html": "<div>\n<style scoped>\n    .dataframe tbody tr th:only-of-type {\n        vertical-align: middle;\n    }\n\n    .dataframe tbody tr th {\n        vertical-align: top;\n    }\n\n    .dataframe thead th {\n        text-align: right;\n    }\n</style>\n<table border=\"1\" class=\"dataframe\">\n  <thead>\n    <tr style=\"text-align: right;\">\n      <th></th>\n      <th>TeamNameSpelling</th>\n      <th>TeamID</th>\n    </tr>\n  </thead>\n  <tbody>\n    <tr>\n      <th>0</th>\n      <td>a&amp;m-corpus chris</td>\n      <td>1394</td>\n    </tr>\n    <tr>\n      <th>1</th>\n      <td>a&amp;m-corpus christi</td>\n      <td>1394</td>\n    </tr>\n    <tr>\n      <th>2</th>\n      <td>abilene chr</td>\n      <td>1101</td>\n    </tr>\n    <tr>\n      <th>3</th>\n      <td>abilene christian</td>\n      <td>1101</td>\n    </tr>\n    <tr>\n      <th>4</th>\n      <td>abilene-christian</td>\n      <td>1101</td>\n    </tr>\n  </tbody>\n</table>\n</div>"
     },
     "metadata": {},
     "execution_count": 40
    }
   ],
   "source": [
    "TeamSpellings = pd.read_csv('input/MTeamSpellings.csv')  # 현재 시즌은 2021년으로 계산되며 \n",
    "TeamSpellings.head()"
   ]
  },
  {
   "cell_type": "code",
   "execution_count": 41,
   "metadata": {},
   "outputs": [
    {
     "output_type": "execute_result",
     "data": {
      "text/plain": [
       "   Season  Slot StrongSeed WeakSeed\n",
       "0    1985  R1W1        W01      W16\n",
       "1    1985  R1W2        W02      W15\n",
       "2    1985  R1W3        W03      W14\n",
       "3    1985  R1W4        W04      W13\n",
       "4    1985  R1W5        W05      W12"
      ],
      "text/html": "<div>\n<style scoped>\n    .dataframe tbody tr th:only-of-type {\n        vertical-align: middle;\n    }\n\n    .dataframe tbody tr th {\n        vertical-align: top;\n    }\n\n    .dataframe thead th {\n        text-align: right;\n    }\n</style>\n<table border=\"1\" class=\"dataframe\">\n  <thead>\n    <tr style=\"text-align: right;\">\n      <th></th>\n      <th>Season</th>\n      <th>Slot</th>\n      <th>StrongSeed</th>\n      <th>WeakSeed</th>\n    </tr>\n  </thead>\n  <tbody>\n    <tr>\n      <th>0</th>\n      <td>1985</td>\n      <td>R1W1</td>\n      <td>W01</td>\n      <td>W16</td>\n    </tr>\n    <tr>\n      <th>1</th>\n      <td>1985</td>\n      <td>R1W2</td>\n      <td>W02</td>\n      <td>W15</td>\n    </tr>\n    <tr>\n      <th>2</th>\n      <td>1985</td>\n      <td>R1W3</td>\n      <td>W03</td>\n      <td>W14</td>\n    </tr>\n    <tr>\n      <th>3</th>\n      <td>1985</td>\n      <td>R1W4</td>\n      <td>W04</td>\n      <td>W13</td>\n    </tr>\n    <tr>\n      <th>4</th>\n      <td>1985</td>\n      <td>R1W5</td>\n      <td>W05</td>\n      <td>W12</td>\n    </tr>\n  </tbody>\n</table>\n</div>"
     },
     "metadata": {},
     "execution_count": 41
    }
   ],
   "source": [
    "NCAATourneySlots = pd.read_csv('input/MNCAATourneySlots.csv')  # 현재 시즌은 2021년으로 계산되며 \n",
    "NCAATourneySlots.head()"
   ]
  },
  {
   "cell_type": "code",
   "execution_count": 42,
   "metadata": {},
   "outputs": [
    {
     "output_type": "execute_result",
     "data": {
      "text/plain": [
       "  Seed  GameRound GameSlot  EarlyDayNum  LateDayNum\n",
       "0  W01          1     R1W1          136         137\n",
       "1  W01          2     R2W1          138         139\n",
       "2  W01          3     R3W1          143         144\n",
       "3  W01          4     R4W1          145         146\n",
       "4  W01          5     R5WX          152         152"
      ],
      "text/html": "<div>\n<style scoped>\n    .dataframe tbody tr th:only-of-type {\n        vertical-align: middle;\n    }\n\n    .dataframe tbody tr th {\n        vertical-align: top;\n    }\n\n    .dataframe thead th {\n        text-align: right;\n    }\n</style>\n<table border=\"1\" class=\"dataframe\">\n  <thead>\n    <tr style=\"text-align: right;\">\n      <th></th>\n      <th>Seed</th>\n      <th>GameRound</th>\n      <th>GameSlot</th>\n      <th>EarlyDayNum</th>\n      <th>LateDayNum</th>\n    </tr>\n  </thead>\n  <tbody>\n    <tr>\n      <th>0</th>\n      <td>W01</td>\n      <td>1</td>\n      <td>R1W1</td>\n      <td>136</td>\n      <td>137</td>\n    </tr>\n    <tr>\n      <th>1</th>\n      <td>W01</td>\n      <td>2</td>\n      <td>R2W1</td>\n      <td>138</td>\n      <td>139</td>\n    </tr>\n    <tr>\n      <th>2</th>\n      <td>W01</td>\n      <td>3</td>\n      <td>R3W1</td>\n      <td>143</td>\n      <td>144</td>\n    </tr>\n    <tr>\n      <th>3</th>\n      <td>W01</td>\n      <td>4</td>\n      <td>R4W1</td>\n      <td>145</td>\n      <td>146</td>\n    </tr>\n    <tr>\n      <th>4</th>\n      <td>W01</td>\n      <td>5</td>\n      <td>R5WX</td>\n      <td>152</td>\n      <td>152</td>\n    </tr>\n  </tbody>\n</table>\n</div>"
     },
     "metadata": {},
     "execution_count": 42
    }
   ],
   "source": [
    "NCAATourneySeedRoundSlots = pd.read_csv('input/MNCAATourneySeedRoundSlots.csv')  # 현재 시즌은 2021년으로 계산되며 \n",
    "NCAATourneySeedRoundSlots.head()"
   ]
  },
  {
   "cell_type": "code",
   "execution_count": null,
   "metadata": {},
   "outputs": [],
   "source": []
  }
 ]
}